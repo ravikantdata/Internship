{
 "cells": [
  {
   "cell_type": "code",
   "execution_count": 1,
   "id": "327b3f30",
   "metadata": {},
   "outputs": [],
   "source": [
    "import pandas as pd"
   ]
  },
  {
   "cell_type": "code",
   "execution_count": 2,
   "id": "a8a5c541",
   "metadata": {},
   "outputs": [],
   "source": [
    "import requests\n",
    "from bs4 import BeautifulSoup"
   ]
  },
  {
   "cell_type": "code",
   "execution_count": 3,
   "id": "5684d8c5",
   "metadata": {},
   "outputs": [
    {
     "data": {
      "text/plain": [
       "<Response [200]>"
      ]
     },
     "execution_count": 3,
     "metadata": {},
     "output_type": "execute_result"
    }
   ],
   "source": [
    "page=requests.get('https://presidentofindia.nic.in/former-presidents.htm')\n",
    "page"
   ]
  },
  {
   "cell_type": "code",
   "execution_count": 15,
   "id": "35daca01",
   "metadata": {},
   "outputs": [],
   "source": [
    "soup=BeautifulSoup(page.content)\n"
   ]
  },
  {
   "cell_type": "code",
   "execution_count": 5,
   "id": "8a4f1153",
   "metadata": {},
   "outputs": [
    {
     "data": {
      "text/plain": [
       "<h3>Shri Ram Nath Kovind (birth - 1945)</h3>"
      ]
     },
     "execution_count": 5,
     "metadata": {},
     "output_type": "execute_result"
    }
   ],
   "source": [
    "first_title=soup.find('h3')\n",
    "first_title"
   ]
  },
  {
   "cell_type": "code",
   "execution_count": 6,
   "id": "57e1b175",
   "metadata": {},
   "outputs": [
    {
     "data": {
      "text/plain": [
       "'Shri Ram Nath Kovind (birth - 1945)'"
      ]
     },
     "execution_count": 6,
     "metadata": {},
     "output_type": "execute_result"
    }
   ],
   "source": [
    "first_title.text"
   ]
  },
  {
   "cell_type": "code",
   "execution_count": 16,
   "id": "e8a5fe5b",
   "metadata": {},
   "outputs": [
    {
     "data": {
      "text/plain": [
       "['Shri Ram Nath Kovind (birth - 1945)',\n",
       " 'Shri Pranab Mukherjee (1935-2020)',\n",
       " 'Smt Pratibha Devisingh Patil (birth - 1934)',\n",
       " 'DR. A.P.J. Abdul Kalam (1931-2015)',\n",
       " 'Shri K. R. Narayanan (1920 - 2005)',\n",
       " 'Dr Shankar Dayal Sharma (1918-1999)',\n",
       " 'Shri R Venkataraman (1910-2009)',\n",
       " 'Giani Zail Singh (1916-1994)',\n",
       " 'Shri Neelam Sanjiva Reddy (1913-1996)',\n",
       " 'Dr. Fakhruddin Ali Ahmed (1905-1977)',\n",
       " 'Shri Varahagiri Venkata Giri (1894-1980)',\n",
       " 'Dr. Zakir Husain (1897-1969)',\n",
       " 'Dr. Sarvepalli Radhakrishnan (1888-1975)',\n",
       " 'Dr. Rajendra Prasad (1884-1963) ']"
      ]
     },
     "execution_count": 16,
     "metadata": {},
     "output_type": "execute_result"
    }
   ],
   "source": [
    "first_title=[]\n",
    "for i in soup.find_all('h3'):\n",
    "    first_title.append(i.text)\n",
    "first_title"
   ]
  },
  {
   "cell_type": "code",
   "execution_count": 8,
   "id": "6aaef9a6",
   "metadata": {},
   "outputs": [
    {
     "data": {
      "text/plain": [
       "<p><span class=\"terms\">Term of Office:</span> 25 July, 2017 to 25 July, 2022 </p>"
      ]
     },
     "execution_count": 8,
     "metadata": {},
     "output_type": "execute_result"
    }
   ],
   "source": [
    "Term=soup.find('p')\n",
    "Term\n"
   ]
  },
  {
   "cell_type": "code",
   "execution_count": 9,
   "id": "7c422b53",
   "metadata": {},
   "outputs": [
    {
     "data": {
      "text/plain": [
       "'Term of Office: 25 July, 2017 to 25 July, 2022 '"
      ]
     },
     "execution_count": 9,
     "metadata": {},
     "output_type": "execute_result"
    }
   ],
   "source": [
    "Term.text"
   ]
  },
  {
   "cell_type": "code",
   "execution_count": 10,
   "id": "4b2a3cff",
   "metadata": {},
   "outputs": [
    {
     "data": {
      "text/plain": [
       "['Term of Office: 25 July, 2017 to 25 July, 2022 ',\n",
       " 'https://ramnathkovind.nic.in',\n",
       " 'Term of Office: 25 July, 2012 to 25 July, 2017 ',\n",
       " 'http://pranabmukherjee.nic.in',\n",
       " 'Term of Office: 25 July, 2007 to 25 July, 2012 ',\n",
       " 'http://pratibhapatil.nic.in',\n",
       " 'Term of Office: 25 July, 2002 to 25 July, 2007 ',\n",
       " 'http://abdulkalam.nic.in',\n",
       " 'Term of Office: 25 July, 1997 to 25 July, 2002 ',\n",
       " 'Term of Office: 25 July, 1992 to 25 July, 1997 ',\n",
       " 'Term of Office: 25 July, 1987 to 25 July, 1992 ',\n",
       " 'Term of Office: 25 July, 1982 to 25 July, 1987 ',\n",
       " 'Term of Office: 25 July, 1977 to 25 July, 1982 ',\n",
       " 'Term of Office: 24 August, 1974 to 11 February, 1977',\n",
       " 'Term of Office: 3 May, 1969 to 20 July, 1969 and 24 August, 1969 to 24 August, 1974',\n",
       " 'Term of Office: 13 May, 1967 to 3 May, 1969',\n",
       " 'Term of Office: 13 May, 1962 to 13 May, 1967',\n",
       " 'Term of Office: 26 January, 1950 to 13 May, 1962',\n",
       " 'Copyright © 2022 The Rashtrapati Bhavan.',\n",
       " 'Page last updated on: 22-July-2022 15:58 PM\\n',\n",
       " \"\\r\\n Website hosted by National Informatics Centre. Website Content provided by the President's Secretariat.\"]"
      ]
     },
     "execution_count": 10,
     "metadata": {},
     "output_type": "execute_result"
    }
   ],
   "source": [
    "Term=[]\n",
    "for i in soup.find_all('p'):\n",
    "    Term.append(i.text)\n",
    "Term"
   ]
  },
  {
   "cell_type": "code",
   "execution_count": 11,
   "id": "09abac65",
   "metadata": {},
   "outputs": [
    {
     "data": {
      "text/plain": [
       "<div class=\"presidentListing\">\n",
       "<h3>Shri Ram Nath Kovind (birth - 1945)</h3>\n",
       "<p><span class=\"terms\">Term of Office:</span> 25 July, 2017 to 25 July, 2022 </p>\n",
       "<p><a href=\"https://ramnathkovind.nic.in\" target=\"_blank\">https://ramnathkovind.nic.in</a></p>\n",
       "</div>"
      ]
     },
     "execution_count": 11,
     "metadata": {},
     "output_type": "execute_result"
    }
   ],
   "source": [
    "Detail=soup.find('div', class_=\"presidentListing\")\n",
    "Detail"
   ]
  },
  {
   "cell_type": "code",
   "execution_count": 12,
   "id": "af991141",
   "metadata": {},
   "outputs": [
    {
     "data": {
      "text/plain": [
       "'\\nShri Ram Nath Kovind (birth - 1945)\\nTerm of Office: 25 July, 2017 to 25 July, 2022 \\nhttps://ramnathkovind.nic.in\\n'"
      ]
     },
     "execution_count": 12,
     "metadata": {},
     "output_type": "execute_result"
    }
   ],
   "source": [
    "Detail.text"
   ]
  },
  {
   "cell_type": "code",
   "execution_count": 13,
   "id": "144fc746",
   "metadata": {},
   "outputs": [
    {
     "data": {
      "text/plain": [
       "['\\nShri Ram Nath Kovind (birth - 1945)\\nTerm of Office: 25 July, 2017 to 25 July, 2022 \\nhttps://ramnathkovind.nic.in\\n',\n",
       " '\\nShri Pranab Mukherjee (1935-2020)\\nTerm of Office: 25 July, 2012 to 25 July, 2017 \\nhttp://pranabmukherjee.nic.in\\n',\n",
       " '\\nSmt Pratibha Devisingh Patil (birth - 1934)\\nTerm of Office: 25 July, 2007 to 25 July, 2012 \\nhttp://pratibhapatil.nic.in\\n',\n",
       " '\\nDR. A.P.J. Abdul Kalam (1931-2015)\\nTerm of Office: 25 July, 2002 to 25 July, 2007 \\nhttp://abdulkalam.nic.in\\n',\n",
       " '\\nShri K. R. Narayanan (1920 - 2005)\\nTerm of Office: 25 July, 1997 to 25 July, 2002 \\n',\n",
       " '\\nDr Shankar Dayal Sharma (1918-1999)\\nTerm of Office: 25 July, 1992 to 25 July, 1997 \\n',\n",
       " '\\nShri R Venkataraman (1910-2009)\\nTerm of Office: 25 July, 1987 to 25 July, 1992 \\n',\n",
       " '\\nGiani Zail Singh (1916-1994)\\nTerm of Office: 25 July, 1982 to 25 July, 1987 \\n',\n",
       " '\\nShri Neelam Sanjiva Reddy (1913-1996)\\nTerm of Office: 25 July, 1977 to 25 July, 1982 \\n',\n",
       " '\\nDr. Fakhruddin Ali Ahmed (1905-1977)\\nTerm of Office: 24 August, 1974 to 11 February, 1977\\n',\n",
       " '\\nShri Varahagiri Venkata Giri (1894-1980)\\nTerm of Office: 3 May, 1969 to 20 July, 1969 and 24 August, 1969 to 24 August, 1974\\n',\n",
       " '\\nDr. Zakir Husain (1897-1969)\\nTerm of Office: 13 May, 1967 to 3 May, 1969\\n',\n",
       " '\\nDr. Sarvepalli Radhakrishnan (1888-1975)\\nTerm of Office: 13 May, 1962 to 13 May, 1967\\n',\n",
       " '\\nDr. Rajendra Prasad (1884-1963) \\nTerm of Office: 26 January, 1950 to 13 May, 1962\\n']"
      ]
     },
     "execution_count": 13,
     "metadata": {},
     "output_type": "execute_result"
    }
   ],
   "source": [
    "Detail=[]\n",
    "for i in soup.find_all('div', class_=\"presidentListing\"):\n",
    "    Detail.append(i.text)\n",
    "Detail"
   ]
  },
  {
   "cell_type": "code",
   "execution_count": 14,
   "id": "01118723",
   "metadata": {},
   "outputs": [
    {
     "data": {
      "text/html": [
       "<div>\n",
       "<style scoped>\n",
       "    .dataframe tbody tr th:only-of-type {\n",
       "        vertical-align: middle;\n",
       "    }\n",
       "\n",
       "    .dataframe tbody tr th {\n",
       "        vertical-align: top;\n",
       "    }\n",
       "\n",
       "    .dataframe thead th {\n",
       "        text-align: right;\n",
       "    }\n",
       "</style>\n",
       "<table border=\"1\" class=\"dataframe\">\n",
       "  <thead>\n",
       "    <tr style=\"text-align: right;\">\n",
       "      <th></th>\n",
       "      <th>PresidentiaL List</th>\n",
       "    </tr>\n",
       "  </thead>\n",
       "  <tbody>\n",
       "    <tr>\n",
       "      <th>0</th>\n",
       "      <td>\\nShri Ram Nath Kovind (birth - 1945)\\nTerm of...</td>\n",
       "    </tr>\n",
       "    <tr>\n",
       "      <th>1</th>\n",
       "      <td>\\nShri Pranab Mukherjee (1935-2020)\\nTerm of O...</td>\n",
       "    </tr>\n",
       "    <tr>\n",
       "      <th>2</th>\n",
       "      <td>\\nSmt Pratibha Devisingh Patil (birth - 1934)\\...</td>\n",
       "    </tr>\n",
       "    <tr>\n",
       "      <th>3</th>\n",
       "      <td>\\nDR. A.P.J. Abdul Kalam (1931-2015)\\nTerm of ...</td>\n",
       "    </tr>\n",
       "    <tr>\n",
       "      <th>4</th>\n",
       "      <td>\\nShri K. R. Narayanan (1920 - 2005)\\nTerm of ...</td>\n",
       "    </tr>\n",
       "    <tr>\n",
       "      <th>5</th>\n",
       "      <td>\\nDr Shankar Dayal Sharma (1918-1999)\\nTerm of...</td>\n",
       "    </tr>\n",
       "    <tr>\n",
       "      <th>6</th>\n",
       "      <td>\\nShri R Venkataraman (1910-2009)\\nTerm of Off...</td>\n",
       "    </tr>\n",
       "    <tr>\n",
       "      <th>7</th>\n",
       "      <td>\\nGiani Zail Singh (1916-1994)\\nTerm of Office...</td>\n",
       "    </tr>\n",
       "    <tr>\n",
       "      <th>8</th>\n",
       "      <td>\\nShri Neelam Sanjiva Reddy (1913-1996)\\nTerm ...</td>\n",
       "    </tr>\n",
       "    <tr>\n",
       "      <th>9</th>\n",
       "      <td>\\nDr. Fakhruddin Ali Ahmed (1905-1977)\\nTerm o...</td>\n",
       "    </tr>\n",
       "    <tr>\n",
       "      <th>10</th>\n",
       "      <td>\\nShri Varahagiri Venkata Giri (1894-1980)\\nTe...</td>\n",
       "    </tr>\n",
       "    <tr>\n",
       "      <th>11</th>\n",
       "      <td>\\nDr. Zakir Husain (1897-1969)\\nTerm of Office...</td>\n",
       "    </tr>\n",
       "    <tr>\n",
       "      <th>12</th>\n",
       "      <td>\\nDr. Sarvepalli Radhakrishnan (1888-1975)\\nTe...</td>\n",
       "    </tr>\n",
       "    <tr>\n",
       "      <th>13</th>\n",
       "      <td>\\nDr. Rajendra Prasad (1884-1963) \\nTerm of Of...</td>\n",
       "    </tr>\n",
       "  </tbody>\n",
       "</table>\n",
       "</div>"
      ],
      "text/plain": [
       "                                    PresidentiaL List\n",
       "0   \\nShri Ram Nath Kovind (birth - 1945)\\nTerm of...\n",
       "1   \\nShri Pranab Mukherjee (1935-2020)\\nTerm of O...\n",
       "2   \\nSmt Pratibha Devisingh Patil (birth - 1934)\\...\n",
       "3   \\nDR. A.P.J. Abdul Kalam (1931-2015)\\nTerm of ...\n",
       "4   \\nShri K. R. Narayanan (1920 - 2005)\\nTerm of ...\n",
       "5   \\nDr Shankar Dayal Sharma (1918-1999)\\nTerm of...\n",
       "6   \\nShri R Venkataraman (1910-2009)\\nTerm of Off...\n",
       "7   \\nGiani Zail Singh (1916-1994)\\nTerm of Office...\n",
       "8   \\nShri Neelam Sanjiva Reddy (1913-1996)\\nTerm ...\n",
       "9   \\nDr. Fakhruddin Ali Ahmed (1905-1977)\\nTerm o...\n",
       "10  \\nShri Varahagiri Venkata Giri (1894-1980)\\nTe...\n",
       "11  \\nDr. Zakir Husain (1897-1969)\\nTerm of Office...\n",
       "12  \\nDr. Sarvepalli Radhakrishnan (1888-1975)\\nTe...\n",
       "13  \\nDr. Rajendra Prasad (1884-1963) \\nTerm of Of..."
      ]
     },
     "execution_count": 14,
     "metadata": {},
     "output_type": "execute_result"
    }
   ],
   "source": [
    "df=pd.DataFrame({\"PresidentiaL List\":Detail})\n",
    "df\n"
   ]
  },
  {
   "cell_type": "code",
   "execution_count": null,
   "id": "6e95c560",
   "metadata": {},
   "outputs": [],
   "source": []
  }
 ],
 "metadata": {
  "kernelspec": {
   "display_name": "Python 3 (ipykernel)",
   "language": "python",
   "name": "python3"
  },
  "language_info": {
   "codemirror_mode": {
    "name": "ipython",
    "version": 3
   },
   "file_extension": ".py",
   "mimetype": "text/x-python",
   "name": "python",
   "nbconvert_exporter": "python",
   "pygments_lexer": "ipython3",
   "version": "3.9.13"
  }
 },
 "nbformat": 4,
 "nbformat_minor": 5
}
